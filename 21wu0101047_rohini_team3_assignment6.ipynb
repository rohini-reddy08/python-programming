{
 "cells": [
  {
   "cell_type": "markdown",
   "id": "fc082aec",
   "metadata": {},
   "source": [
    "1.\tWhat is the primary goal of Object-Oriented Programming (OOP)?"
   ]
  },
  {
   "cell_type": "markdown",
   "id": "b13ce5da",
   "metadata": {},
   "source": [
    "Ans) object oriented Programming in python. It is a programming process that uses classes and objects in programming. It aims to implement real -word entities like inheritance, polymorphisms, encapsulation, abstraction etc…"
   ]
  },
  {
   "cell_type": "markdown",
   "id": "353c62cc",
   "metadata": {},
   "source": [
    "2.\tWhat is an object in Python?"
   ]
  },
  {
   "cell_type": "markdown",
   "id": "579032fe",
   "metadata": {},
   "source": [
    "Ans) Object is an antity that has state and behaviour associated With it. It reflects the properties of objects.\n",
    "Ex - Keyboard, mouse object is an instant of class."
   ]
  },
  {
   "cell_type": "markdown",
   "id": "ba5ae3ad",
   "metadata": {},
   "source": [
    "3.\tWhat is a class in Python?"
   ]
  },
  {
   "cell_type": "markdown",
   "id": "ce9447c9",
   "metadata": {},
   "source": [
    "Ans) Collection of objects \n",
    "→ Contain come attributes and methods\n",
    "→ Attributes are always public & can be accessed using the dot(.) opertors."
   ]
  },
  {
   "cell_type": "markdown",
   "id": "78d38bde",
   "metadata": {},
   "source": [
    "4.\tWhat are attributes and methods in a class?"
   ]
  },
  {
   "cell_type": "markdown",
   "id": "59d3b8c4",
   "metadata": {},
   "source": [
    "Ans) Class Attributes are the attributes that belong to the class itself rather than a particular object. Usually, we use class attributes to define the attributes that have a common value among all the objects inside the class. Class Methods are the methods that have access to the class attributes."
   ]
  },
  {
   "cell_type": "markdown",
   "id": "c3a3a2f0",
   "metadata": {},
   "source": [
    "5.\tWhat is the difference between class variables and instance variables in Python?"
   ]
  },
  {
   "cell_type": "markdown",
   "id": "b31488a1",
   "metadata": {},
   "source": [
    "Ans) Class variables store data that is common to all instances, making them a powerful tool for managing shared state and settings. “In Python, class variables are like shared memories among all instances, while instance variables are unique thoughts of each object."
   ]
  },
  {
   "cell_type": "markdown",
   "id": "34d99072",
   "metadata": {},
   "source": [
    "6.\tWhat is the purpose of the self parameter in Python class methods?"
   ]
  },
  {
   "cell_type": "markdown",
   "id": "257503d8",
   "metadata": {},
   "source": [
    "Ans) The self parameter is a reference to the current instance of the class, and is used to access variables that belongs to the class."
   ]
  },
  {
   "cell_type": "raw",
   "id": "797658ae",
   "metadata": {},
   "source": [
    "7.)\tFor a library management system, you have to design the \"Book\" class with OOP principles in mind. The “Book” class will have following attributes:\n",
    "a.\ttitle: Represents the title of the book.\n",
    "b.\tauthor: Represents the author(s) of the book.\n",
    "c.\tisbn: Represents the ISBN (International Standard Book Number) of the book.\n",
    "d.\tpublication_year: Represents the year of publication of the book.\n",
    "e.\tavailable_copies: Represents the number of copies available for checkout. The class will also include the following methods:\n",
    "a.\tcheck_out(self): Decrements the available copies by one if there are copies available for checkout.\n",
    "b.\treturn_book(self): Increments the available copies by one when a book is returned.\n",
    "c.\tdisplay_book_info(self): Displays the information about the book, including its attributes and the number of available copies.\n"
   ]
  },
  {
   "cell_type": "code",
   "execution_count": 7,
   "id": "a805fdc5",
   "metadata": {},
   "outputs": [],
   "source": [
    "class Book:\n",
    "    def _init_(self, title, author, isbn, year, copies):\n",
    "        self.title = title\n",
    "        self.author = author\n",
    "        self.isbn = isbn\n",
    "        self.year = year\n",
    "        self.copies = copies\n",
    "\n",
    "    def check_out(self):\n",
    "        if self.copies > 0:\n",
    "            self.copies -= 1\n",
    "            print(\"Book checked out.\")\n",
    "        else:\n",
    "            print(\"No copies left.\")\n",
    "\n",
    "    def return_book(self):\n",
    "        self.copies += 1\n",
    "        print(\"Book returned.\")\n",
    "\n",
    "    def display_info(self):\n",
    "        print(f\"Title: {self.title}, Author: {self.author}, ISBN: {self.isbn}, Year: {self.year}, Copies: {self.copies}\")"
   ]
  },
  {
   "cell_type": "raw",
   "id": "af34a7ba",
   "metadata": {},
   "source": [
    "8.)\tFor a ticket booking system, you have to design the \"Ticket\" class with OOP principles in mind. The “Ticket” class should have the following attributes:\n",
    "a.\tticket_id: Represents the unique identifier for the ticket.\n",
    "b.\tevent_name: Represents the name of the event.\n",
    "c.\tevent_date: Represents the date of the event.\n",
    "d.\tvenue: Represents the venue of the event.\n",
    "e.\tseat_number: Represents the seat number associated with the ticket.\n",
    "f.\tprice: Represents the price of the ticket.\n",
    "g.\tis_reserved: Represents the reservation status of the ticket. The class also includes the following methods:\n",
    "a.\treserve_ticket(self): Marks the ticket as reserved if it is not already reserved.\n",
    "b.\tcancel_reservation(self): Cancels the reservation of the ticket if it is already reserved.\n",
    "c.\tdisplay_ticket_info(self): Displays the information about the ticket, including its attributes and reservation status.\n"
   ]
  },
  {
   "cell_type": "code",
   "execution_count": 8,
   "id": "9bb70a51",
   "metadata": {},
   "outputs": [],
   "source": [
    "class Ticket:\n",
    "    def _init_(self, event, price):\n",
    "        self.event = event\n",
    "        self.price = price\n",
    "        self.reserved = False\n",
    "    def reserve(self):\n",
    "        if not self.reserved:\n",
    "            self.reserved = True\n",
    "            print(\"Reserved.\")\n",
    "        else:\n",
    "            print(\"Already reserved.\")\n",
    "    def cancel(self):\n",
    "        if self.reserved:\n",
    "            self.reserved = False\n",
    "            print(\"Reservation canceled.\")\n",
    "        else:\n",
    "            print(\"Not reserved.\")\n",
    "    def show_info(self):\n",
    "        print(f\"Event: {self.event}, Price: {self.price}, Reserved: {self.reserved}\")\n"
   ]
  },
  {
   "cell_type": "raw",
   "id": "0b6d545f",
   "metadata": {},
   "source": [
    "9.)\tYou are creating a shopping cart for an e-commerce website. Using OOP to model the \"ShoppingCart\" functionality the class should contain following attributes and methods:\n",
    "a.\titems: Represents the list of items in the shopping cart. The class also includes the following methods:\n",
    "a.\tadd_item(self, item): Adds an item to the shopping cart by appending it to the list of items.\n",
    "b.\tremove_item(self, item): Removes an item from the shopping cart if it exists in the list.\n",
    "c.\tview_cart(self): Displays the items currently present in the shopping cart.\n",
    "d.\tclear_cart(self): Clears all items from the shopping cart by reassigning an empty list to the items attribute.\n"
   ]
  },
  {
   "cell_type": "code",
   "execution_count": 9,
   "id": "17c1e252",
   "metadata": {},
   "outputs": [],
   "source": [
    "class ShoppingCart:\n",
    "    def _init_(self):\n",
    "        self.items = []\n",
    "    def add(self, item):\n",
    "        self.items.append(item)\n",
    "        print(\"Item added.\")\n",
    "    def remove(self, item):\n",
    "        if item in self.items:\n",
    "            self.items.remove(item)\n",
    "            print(\"Item removed.\")\n",
    "        else:\n",
    "            print(\"Not found.\")\n",
    "    def show_cart(self):\n",
    "        print(\"Cart items:\", self.items)\n"
   ]
  },
  {
   "cell_type": "raw",
   "id": "40b2962e",
   "metadata": {},
   "source": [
    "10.)\tImagine a school management system. You have to design the \"Student\" class using OOP concepts.The “Student” class has the following attributes:\n",
    "a.\tname: Represents the name of the student.\n",
    "b.\tage: Represents the age of the student.\n",
    "c.\tgrade: Represents the grade or class of the student.\n",
    "d.\tstudent_id: Represents the unique identifier for the student.\n",
    "e.\tattendance: Represents the attendance record of the student. The class should also include the following methods:\n",
    "a.\tupdate_attendance(self, date, status): Updates the attendance record of the student for a given date with the provided status (e.g., present or absent).\n",
    "b.\tget_attendance(self): Returns the attendance record of the student.\n",
    "c.\tget_average_attendance(self): Calculates and returns the average attendance percentage of the student based on their attendance record.\n"
   ]
  },
  {
   "cell_type": "code",
   "execution_count": 10,
   "id": "7ea76b04",
   "metadata": {},
   "outputs": [],
   "source": [
    "class Student:\n",
    "    def _init_(self, name, age, grade, student_id):\n",
    "        self.name = name\n",
    "        self.age = age\n",
    "        self.grade = grade\n",
    "        self.student_id = student_id\n",
    "        self.attendance = {}\n",
    "    def mark_attendance(self, date, status):\n",
    "        self.attendance[date] = status\n",
    "        print(f\"Attendance for {date}: {status}\")\n",
    "    def get_attendance(self):\n",
    "        return self.attendance\n",
    "    def average_attendance(self):\n",
    "        total = len(self.attendance)\n",
    "        present = sum(1 for status in self.attendance.values() if status == \"present\")\n",
    "        return (present / total) * 100 if total > 0 else 0\n"
   ]
  }
 ],
 "metadata": {
  "kernelspec": {
   "display_name": "Python 3 (ipykernel)",
   "language": "python",
   "name": "python3"
  },
  "language_info": {
   "codemirror_mode": {
    "name": "ipython",
    "version": 3
   },
   "file_extension": ".py",
   "mimetype": "text/x-python",
   "name": "python",
   "nbconvert_exporter": "python",
   "pygments_lexer": "ipython3",
   "version": "3.9.13"
  }
 },
 "nbformat": 4,
 "nbformat_minor": 5
}
