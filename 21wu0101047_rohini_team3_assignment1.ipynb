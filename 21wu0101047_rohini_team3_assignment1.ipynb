{
 "cells": [
  {
   "cell_type": "markdown",
   "id": "16c259b5",
   "metadata": {},
   "source": [
    "1. In the below elements which of them are values or an expression? eg:- values can be integer or string and expressions will be mathematical operators.\n",
    "* \n",
    "'hello'\n",
    "-87.8\n",
    "- \n",
    "/ \n",
    "+\t\n",
    "6 "
   ]
  },
  {
   "cell_type": "markdown",
   "id": "529ae47b",
   "metadata": {},
   "source": [
    "Ans) * → Expression \n",
    "     'hello' → Value \n",
    "     -87.8 → Value \n",
    "     - → Expression \n",
    "     / → Expression \n",
    "      6 → Value "
   ]
  },
  {
   "cell_type": "markdown",
   "id": "bd685b07",
   "metadata": {},
   "source": [
    "2. What is the difference between string and variable?"
   ]
  },
  {
   "cell_type": "markdown",
   "id": "e694cd40",
   "metadata": {},
   "source": [
    "Ans) String: A sequence of characters enclosed in quotes, e.g., 'hello'.\n",
    "Variable: A container for storing data, which can be a string, integer, etc., e.g., name = 'hello'."
   ]
  },
  {
   "cell_type": "markdown",
   "id": "1dba1538",
   "metadata": {},
   "source": [
    "3. Describe three different data types."
   ]
  },
  {
   "cell_type": "markdown",
   "id": "41331720",
   "metadata": {},
   "source": [
    "Ans) Numeric: integer, float, complex number.\n",
    "     boolean: It is a data type with one of the two built in values, true(or)false.\n",
    "     sequence: string, list, tuples"
   ]
  },
  {
   "cell_type": "markdown",
   "id": "9ab56153",
   "metadata": {},
   "source": [
    " 4. What is an expression made up of? What do all expressions do?\n",
    " "
   ]
  },
  {
   "cell_type": "markdown",
   "id": "0b22a5c2",
   "metadata": {},
   "source": [
    "Ans) An expression is made up of values, variables, and operators. Expressions are used to evaluate and produce a result."
   ]
  },
  {
   "cell_type": "markdown",
   "id": "c46e6867",
   "metadata": {},
   "source": [
    "5. This assignment statements, like spam = 10. What is the difference between an expression and a statement?"
   ]
  },
  {
   "cell_type": "markdown",
   "id": "8e02fe7a",
   "metadata": {},
   "source": [
    "Ans) Expression: Evaluates to a value, e.g., 2 + 3.\n",
    "Statement: Executes an action, e.g., spam = 10 assigns a value to a variable."
   ]
  },
  {
   "cell_type": "markdown",
   "id": "1a78ece9",
   "metadata": {},
   "source": [
    "6. After running the following code, what does the variable bacon contain?\n",
    "bacon = 22\n",
    "bacon + 1"
   ]
  },
  {
   "cell_type": "markdown",
   "id": "a9ece363",
   "metadata": {},
   "source": [
    "Ans) The variable bacon still contains 22, as the increment is not assigned back to bacon."
   ]
  },
  {
   "cell_type": "markdown",
   "id": "03140eb6",
   "metadata": {},
   "source": [
    "7. What should the values of the following two terms be?\n",
    "'spam' + 'spamspam'\n",
    "'spam' * 3"
   ]
  },
  {
   "cell_type": "markdown",
   "id": "3fa16d6f",
   "metadata": {},
   "source": [
    "Ans) 'spam' + 'spamspam' → 'spamspamspam'\n",
    "'spam' * 3 → 'spamspamspam'"
   ]
  },
  {
   "cell_type": "markdown",
   "id": "b74549c7",
   "metadata": {},
   "source": [
    "8. Why is eggs a valid variable name while 100 is invalid?"
   ]
  },
  {
   "cell_type": "markdown",
   "id": "8cc60dd2",
   "metadata": {},
   "source": [
    "Ans) eggs: A valid variable name because it starts with a letter and follows naming rules.\n",
    "     100: Variable names cannot begin with a number."
   ]
  },
  {
   "cell_type": "markdown",
   "id": "97f2813a",
   "metadata": {},
   "source": [
    "9. What three functions can be used to get the integer, floating-point number, or string version of a value?"
   ]
  },
  {
   "cell_type": "markdown",
   "id": "607cefa7",
   "metadata": {},
   "source": [
    "Ans) The int(), float(), and str() functions will evaluate to the integer, floating-point number, and string versions of the value passed to them."
   ]
  },
  {
   "cell_type": "markdown",
   "id": "d5bb35ea",
   "metadata": {},
   "source": [
    "10. Why does this expression cause an error? How can you fix it?\n",
    "'I have eaten ' + 99 + ' burritos.'"
   ]
  },
  {
   "cell_type": "markdown",
   "id": "bbe08351",
   "metadata": {},
   "source": [
    "Ans) The above sentence causes an error because you cannot concatenate a string with an integer directly."
   ]
  },
  {
   "cell_type": "code",
   "execution_count": null,
   "id": "83f9aa04",
   "metadata": {},
   "outputs": [],
   "source": []
  }
 ],
 "metadata": {
  "kernelspec": {
   "display_name": "Python 3 (ipykernel)",
   "language": "python",
   "name": "python3"
  },
  "language_info": {
   "codemirror_mode": {
    "name": "ipython",
    "version": 3
   },
   "file_extension": ".py",
   "mimetype": "text/x-python",
   "name": "python",
   "nbconvert_exporter": "python",
   "pygments_lexer": "ipython3",
   "version": "3.9.13"
  }
 },
 "nbformat": 4,
 "nbformat_minor": 5
}
