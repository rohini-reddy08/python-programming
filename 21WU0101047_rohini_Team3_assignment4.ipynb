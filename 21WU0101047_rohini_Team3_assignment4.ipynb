{
 "cells": [
  {
   "cell_type": "markdown",
   "id": "f3a8fe12",
   "metadata": {},
   "source": [
    "1. What exactly is []?"
   ]
  },
  {
   "cell_type": "markdown",
   "id": "90242f83",
   "metadata": {},
   "source": [
    "Ans) [] represents an empty list. \n",
    "ex: l=[]"
   ]
  },
  {
   "cell_type": "markdown",
   "id": "8a5d2ce2",
   "metadata": {},
   "source": [
    "2.In a list of values stored in a variable called spam, how would you assign the value 'hello' as the third value? (Assume [2, 4, 6, 8, 10] are in spam.)\n",
    "\n",
    "Let's pretend the spam includes the list ['a', 'b', 'c', 'd'] for the next three queries."
   ]
  },
  {
   "cell_type": "code",
   "execution_count": null,
   "id": "e3b08574",
   "metadata": {},
   "outputs": [],
   "source": [
    "Ans)\n",
    "spam = [2, 4, 6, 8, 10]\n",
    "spam[2] = 'hello'\n",
    "spam"
   ]
  },
  {
   "cell_type": "markdown",
   "id": "f171f427",
   "metadata": {},
   "source": [
    "3. What is the value of spam[int(int('3' * 2) / 11)]?"
   ]
  },
  {
   "cell_type": "code",
   "execution_count": 2,
   "id": "39fdbf3a",
   "metadata": {},
   "outputs": [
    {
     "data": {
      "text/plain": [
       "'d'"
      ]
     },
     "execution_count": 2,
     "metadata": {},
     "output_type": "execute_result"
    }
   ],
   "source": [
    "Ans) spam =['a', 'b', 'c', 'd']\n",
    "spam[int(int('3' * 2) / 11)] #returns spam[3]"
   ]
  },
  {
   "cell_type": "markdown",
   "id": "99525888",
   "metadata": {},
   "source": [
    "4. What is the value of spam[-1]?"
   ]
  },
  {
   "cell_type": "code",
   "execution_count": 3,
   "id": "27fed0a2",
   "metadata": {},
   "outputs": [
    {
     "data": {
      "text/plain": [
       "'d'"
      ]
     },
     "execution_count": 3,
     "metadata": {},
     "output_type": "execute_result"
    }
   ],
   "source": [
    "Ans)\n",
    "spam = ['a', 'b','c','d']\n",
    "spam[-1]"
   ]
  },
  {
   "cell_type": "markdown",
   "id": "4a49a6f2",
   "metadata": {},
   "source": [
    "5. What is the value of spam[:2]?\n",
    "\n",
    "Let's pretend bacon has the list [3.14, 'cat,' 11, 'cat,' True] for the next three questions."
   ]
  },
  {
   "cell_type": "code",
   "execution_count": 4,
   "id": "142a8670",
   "metadata": {},
   "outputs": [
    {
     "data": {
      "text/plain": [
       "['a', 'b']"
      ]
     },
     "execution_count": 4,
     "metadata": {},
     "output_type": "execute_result"
    }
   ],
   "source": [
    "Ans)\n",
    "spam = ['a', 'b','c','d']\n",
    "spam[:2]"
   ]
  },
  {
   "cell_type": "markdown",
   "id": "2cc3a951",
   "metadata": {},
   "source": [
    "6. What is the value of bacon.index('cat')?"
   ]
  },
  {
   "cell_type": "code",
   "execution_count": 6,
   "id": "55292ad6",
   "metadata": {},
   "outputs": [
    {
     "data": {
      "text/plain": [
       "1"
      ]
     },
     "execution_count": 6,
     "metadata": {},
     "output_type": "execute_result"
    }
   ],
   "source": [
    "Ans)\n",
    "bacon = [3.14, 'cat', 11, 'cat', True]\n",
    "bacon.index('cat') #returns first occurence of cat"
   ]
  },
  {
   "cell_type": "markdown",
   "id": "6f0d90be",
   "metadata": {},
   "source": [
    "7. How does bacon.append(99) change the look of the list value in bacon?"
   ]
  },
  {
   "cell_type": "code",
   "execution_count": 7,
   "id": "44b5022b",
   "metadata": {},
   "outputs": [
    {
     "data": {
      "text/plain": [
       "[3.14, 'cat', 11, 'cat', True, 99]"
      ]
     },
     "execution_count": 7,
     "metadata": {},
     "output_type": "execute_result"
    }
   ],
   "source": [
    "Ans)\n",
    "bacon = [3.14, 'cat', 11, 'cat', True]\n",
    "bacon.append(99) # adds 99 at the end of the list\n",
    "bacon"
   ]
  },
  {
   "cell_type": "markdown",
   "id": "28399ae1",
   "metadata": {},
   "source": [
    "8. How does bacon.remove('cat') change the look of the list in bacon?"
   ]
  },
  {
   "cell_type": "code",
   "execution_count": 8,
   "id": "a036a2ba",
   "metadata": {},
   "outputs": [
    {
     "data": {
      "text/plain": [
       "[3.14, 11, 'cat', True]"
      ]
     },
     "execution_count": 8,
     "metadata": {},
     "output_type": "execute_result"
    }
   ],
   "source": [
    "Ans)\n",
    "bacon = [3.14, 'cat', 11, 'cat', True]\n",
    "bacon.remove('cat') \n",
    "bacon"
   ]
  },
  {
   "cell_type": "markdown",
   "id": "2c8c5b97",
   "metadata": {},
   "source": [
    "9. What are the list concatenation and list replication operators?"
   ]
  },
  {
   "cell_type": "code",
   "execution_count": 10,
   "id": "40f34ac2",
   "metadata": {},
   "outputs": [
    {
     "name": "stdout",
     "output_type": "stream",
     "text": [
      "[1, 2, 3, 4, 5, 6]\n",
      "[1, 2, 3, 1, 2, 3]\n"
     ]
    }
   ],
   "source": [
    "Ans)\n",
    "# List concatentaion operator: +\n",
    "# List replication operator: *\n",
    "    \n",
    "l1=[1, 2, 3]\n",
    "l2=[4, 5, 6]\n",
    "print(l1+l2)\n",
    "print(l1*2)"
   ]
  },
  {
   "cell_type": "markdown",
   "id": "5fd2f293",
   "metadata": {},
   "source": [
    "10. What is difference between the list methods append() and insert()?"
   ]
  },
  {
   "cell_type": "code",
   "execution_count": 12,
   "id": "b8e1ac1b",
   "metadata": {},
   "outputs": [
    {
     "name": "stdout",
     "output_type": "stream",
     "text": [
      "[1, 2, 3, 99]\n",
      "[1, 2, 'hello', 3, 99]\n"
     ]
    }
   ],
   "source": [
    "Ans)\n",
    "# append(): Appends object to the end of the list\n",
    "# insert(): Insert object before index\n",
    "    \n",
    "l1=[1, 2, 3]\n",
    "l1.append(99)\n",
    "print(l1)\n",
    "l1.insert(2,'hello')\n",
    "print(l1)"
   ]
  },
  {
   "cell_type": "markdown",
   "id": "47559818",
   "metadata": {},
   "source": [
    "11. What are the two methods for removing items from a list?"
   ]
  },
  {
   "cell_type": "code",
   "execution_count": 15,
   "id": "6a7b01bd",
   "metadata": {},
   "outputs": [
    {
     "name": "stdout",
     "output_type": "stream",
     "text": [
      "[2, 4, 8]\n",
      "[2, 4]\n"
     ]
    }
   ],
   "source": [
    "Ans)\n",
    "# remove(item) and pop(item) are two methods to remove items from the list.\n",
    "\n",
    "a = [2, 4, 6, 8]\n",
    "a.remove(6)  # remove the first occurence of the value from list\n",
    "print(a)\n",
    "a.pop()   #remove items at the index position, by default removes last item\n",
    "print(a)"
   ]
  },
  {
   "cell_type": "markdown",
   "id": "34665e22",
   "metadata": {},
   "source": [
    "12. Describe how list values and string values are identical."
   ]
  },
  {
   "cell_type": "markdown",
   "id": "9177e621",
   "metadata": {},
   "source": [
    "Ans)\n",
    "- Both have indexes and slices\n",
    "- Can be used in for loops\n",
    "- Both lists and strings can be passed to len()\n",
    "- Can be concatenated or replicated\n",
    "- Can be used with the in and not in operators\n",
    "- Can access individual elements in both lists and strings using their index position within the sequence"
   ]
  },
  {
   "cell_type": "markdown",
   "id": "28f4f19c",
   "metadata": {},
   "source": [
    "13. What's the difference between tuples and lists?"
   ]
  },
  {
   "cell_type": "markdown",
   "id": "239fd50b",
   "metadata": {},
   "source": [
    "Ans)\n",
    "Lists: Mutable as values can be changed, added or removed. Represented using '[]'.\n",
    "Tuples: Immutable as values cannot be changed. Represented using '()'."
   ]
  },
  {
   "cell_type": "markdown",
   "id": "112e98bf",
   "metadata": {},
   "source": [
    "14. How do you type a tuple value that only contains the integer 42?"
   ]
  },
  {
   "cell_type": "markdown",
   "id": "5415039f",
   "metadata": {},
   "source": [
    "Ans)\n",
    "tuple = (42,)"
   ]
  },
  {
   "cell_type": "markdown",
   "id": "572802eb",
   "metadata": {},
   "source": [
    "15. How do you get a list value's tuple form? How do you get a tuple value's list form?"
   ]
  },
  {
   "cell_type": "code",
   "execution_count": 18,
   "id": "b93c81e8",
   "metadata": {},
   "outputs": [
    {
     "name": "stdout",
     "output_type": "stream",
     "text": [
      "(1, 2, 3)\n",
      "[2, 4, 6]\n"
     ]
    }
   ],
   "source": [
    "Ans)\n",
    "# List value's tuple form:\n",
    "l1 = [1,2,3]\n",
    "l = tuple(l1)\n",
    "print(l)\n",
    "\n",
    "# Tuple value's ist form:\n",
    "t1 = (2,4,6)\n",
    "t = list(t1)\n",
    "print(t)"
   ]
  },
  {
   "cell_type": "markdown",
   "id": "b624d75b",
   "metadata": {},
   "source": [
    "16. Variables that \"contain\" list values are not necessarily lists themselves. Instead, what do they contain?"
   ]
  },
  {
   "cell_type": "markdown",
   "id": "43feb1ae",
   "metadata": {},
   "source": [
    "Ans) They contain the references to list values."
   ]
  },
  {
   "cell_type": "markdown",
   "id": "e5644739",
   "metadata": {},
   "source": [
    "17. How do you distinguish between copy.copy() and copy.deepcopy()?"
   ]
  },
  {
   "cell_type": "markdown",
   "id": "cb169203",
   "metadata": {},
   "source": [
    "Ans) \n",
    "copy.copy() function: It will do a shallow copy of a list.\n",
    "copy.deepcopy() function: It will do a deep copy of a list. \n",
    "Also, copy.deepcopy() will duplicate any lists inside the list."
   ]
  },
  {
   "cell_type": "code",
   "execution_count": null,
   "id": "a9fad471",
   "metadata": {},
   "outputs": [],
   "source": []
  }
 ],
 "metadata": {
  "kernelspec": {
   "display_name": "Python 3 (ipykernel)",
   "language": "python",
   "name": "python3"
  },
  "language_info": {
   "codemirror_mode": {
    "name": "ipython",
    "version": 3
   },
   "file_extension": ".py",
   "mimetype": "text/x-python",
   "name": "python",
   "nbconvert_exporter": "python",
   "pygments_lexer": "ipython3",
   "version": "3.9.13"
  }
 },
 "nbformat": 4,
 "nbformat_minor": 5
}
