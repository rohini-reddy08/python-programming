{
 "cells": [
  {
   "cell_type": "markdown",
   "id": "9cb13f2b",
   "metadata": {},
   "source": [
    "1. What is the role of try and exception block?"
   ]
  },
  {
   "cell_type": "markdown",
   "id": "a835982d",
   "metadata": {},
   "source": [
    "Ans) The try block is used to wrap code that might raise an exception, and the except block catches and handles the exception if it occurs. This prevents the program from crashing and allows for graceful error handling."
   ]
  },
  {
   "cell_type": "markdown",
   "id": "980f45c0",
   "metadata": {},
   "source": [
    "2. What is the syntax for a basic try-except block?\n"
   ]
  },
  {
   "cell_type": "code",
   "execution_count": null,
   "id": "66b6ebc2",
   "metadata": {},
   "outputs": [],
   "source": [
    "try: x = int(input(\"Enter a number: \")) y = 10 / x print(y) except \n",
    "    ZeroDivisionError: print(\"You cannot divide by zero! \")"
   ]
  },
  {
   "cell_type": "markdown",
   "id": "ac76c8c3",
   "metadata": {},
   "source": [
    "3. What happens if an exception occurs inside a try block and there is no matchingexcept block?"
   ]
  },
  {
   "cell_type": "markdown",
   "id": "c56f3f74",
   "metadata": {},
   "source": [
    "Ans)If there is no matching except block, the program will terminate and display a traceback error message."
   ]
  },
  {
   "cell_type": "markdown",
   "id": "354ff606",
   "metadata": {},
   "source": [
    "4. What is the difference between using a bare except block and specifying a specific exception type?"
   ]
  },
  {
   "cell_type": "markdown",
   "id": "91e39e35",
   "metadata": {},
   "source": [
    "Ans)•A bare except block catches all exceptions, which can make debugging difficult since it doesn’t specify the type of exception.\n",
    "    •Specifying an exception type ensures only that type of error is caught, providing more precise error handling"
   ]
  },
  {
   "cell_type": "markdown",
   "id": "0d5aa165",
   "metadata": {},
   "source": [
    "5. Can you have nested try-except blocks in Python? If yes, then give an example."
   ]
  },
  {
   "cell_type": "markdown",
   "id": "8575a339",
   "metadata": {},
   "source": [
    "Ans)Yes, nested try-except blocks are allowed."
   ]
  },
  {
   "cell_type": "code",
   "execution_count": 1,
   "id": "3b627e5b",
   "metadata": {},
   "outputs": [
    {
     "name": "stdout",
     "output_type": "stream",
     "text": [
      "Inner block: Cannot divide by zero!\n"
     ]
    }
   ],
   "source": [
    "try:\n",
    "    try:\n",
    "        x = 10 / 0\n",
    "    except ZeroDivisionError:\n",
    "        print(\"Inner block: Cannot divide by zero!\")\n",
    "except Exception as e:\n",
    "    print(f\"Outer block: An error occurred: {e}\")"
   ]
  },
  {
   "cell_type": "markdown",
   "id": "7061a268",
   "metadata": {},
   "source": [
    "6. Can we use multiple exception blocks? If yes, then give an example."
   ]
  },
  {
   "cell_type": "markdown",
   "id": "2733b617",
   "metadata": {},
   "source": [
    "Ans) Yes, multiple except blocks can handle different types of exceptions."
   ]
  },
  {
   "cell_type": "code",
   "execution_count": 5,
   "id": "2e5a1f22",
   "metadata": {},
   "outputs": [
    {
     "name": "stdout",
     "output_type": "stream",
     "text": [
      "ValueError: Invalid input!\n"
     ]
    }
   ],
   "source": [
    "try:\n",
    "    x = int(\"abc\")\n",
    "except ValueError:\n",
    "    print(\"ValueError: Invalid input!\")\n",
    "except TypeError:\n",
    "    print(\"TypeError: Wrong data type!\")"
   ]
  },
  {
   "cell_type": "raw",
   "id": "91b6a1b5",
   "metadata": {},
   "source": [
    "7.) Write the reason due to which following errors are raised:\n",
    "a. EOFError\n",
    "b. FloatingPointError\n",
    "c. IndexError\n",
    "d. MemoryError\n",
    "e. OverflowError\n",
    "f. TabError\n",
    "g. ValueError"
   ]
  },
  {
   "cell_type": "markdown",
   "id": "d028e39b",
   "metadata": {},
   "source": [
    "Ans) \n",
    "a. EOFError: Raised when input() reaches the end of a file without reading data.\n",
    "b. FloatingPointError: Raised for errors in floating-point calculations (rarely occurs in Python).\n",
    "c. IndexError: Raised when trying to access an index that is out of range in a list or tuple.\n",
    "d. MemoryError: Raised when an operation runs out of memory.\n",
    "e. OverflowError: Raised when a calculation exceeds the maximum representable value (common in integer or float operations).\n",
    "f. TabError: Raised when inconsistent use of tabs and spaces in indentation occurs.\n",
    "g. ValueError: Raised when a function receives an argument of the correct type but inappropriate value."
   ]
  },
  {
   "cell_type": "markdown",
   "id": "d6d2ef77",
   "metadata": {},
   "source": [
    "8.) Write code for the following given scenario and add try-exception block to it."
   ]
  },
  {
   "cell_type": "markdown",
   "id": "50a2b792",
   "metadata": {},
   "source": [
    "a. Program to divide two numbers"
   ]
  },
  {
   "cell_type": "code",
   "execution_count": 6,
   "id": "1d4be773",
   "metadata": {},
   "outputs": [
    {
     "name": "stdout",
     "output_type": "stream",
     "text": [
      "Enter numerator: 10\n",
      "Enter denominator: 20\n",
      "Result: 0.5\n"
     ]
    }
   ],
   "source": [
    "try:\n",
    "    a = int(input(\"Enter numerator: \"))\n",
    "    b = int(input(\"Enter denominator: \"))\n",
    "    result = a / b\n",
    "    print(f\"Result: {result}\")\n",
    "except ZeroDivisionError:\n",
    "    print(\"Cannot divide by zero!\")\n",
    "except ValueError:\n",
    "    print(\"Invalid input! Please enter numbers.\")"
   ]
  },
  {
   "cell_type": "markdown",
   "id": "867cebf2",
   "metadata": {},
   "source": [
    "b. Program to convert a string to an integer"
   ]
  },
  {
   "cell_type": "code",
   "execution_count": 7,
   "id": "675a6655",
   "metadata": {},
   "outputs": [
    {
     "name": "stdout",
     "output_type": "stream",
     "text": [
      "Enter a string: 100\n",
      "Converted integer: 100\n"
     ]
    }
   ],
   "source": [
    "try:\n",
    "    s = input(\"Enter a string: \")\n",
    "    num = int(s)\n",
    "    print(f\"Converted integer: {num}\")\n",
    "except ValueError:\n",
    "    print(\"Error: Cannot convert string to integer!\")\n"
   ]
  },
  {
   "cell_type": "markdown",
   "id": "73cfadaa",
   "metadata": {},
   "source": [
    "c. Program to access an element in a list"
   ]
  },
  {
   "cell_type": "code",
   "execution_count": 8,
   "id": "095b8a7a",
   "metadata": {},
   "outputs": [
    {
     "name": "stdout",
     "output_type": "stream",
     "text": [
      "Enter index: 7\n",
      "Error: Index out of range!\n"
     ]
    }
   ],
   "source": [
    "try:\n",
    "    nums = [10, 20, 30]\n",
    "    index = int(input(\"Enter index: \"))\n",
    "    print(f\"Element: {nums[index]}\")\n",
    "except IndexError:\n",
    "    print(\"Error: Index out of range!\")\n",
    "except ValueError:\n",
    "    print(\"Invalid input! Please enter a valid index.\")"
   ]
  },
  {
   "cell_type": "markdown",
   "id": "fea1fc72",
   "metadata": {},
   "source": [
    "d. Program to handle a specific exception"
   ]
  },
  {
   "cell_type": "code",
   "execution_count": 9,
   "id": "6792e1af",
   "metadata": {},
   "outputs": [
    {
     "name": "stdout",
     "output_type": "stream",
     "text": [
      "Caught a ZeroDivisionError!\n"
     ]
    }
   ],
   "source": [
    "try:\n",
    "    num = 10 / 0\n",
    "except ZeroDivisionError:\n",
    "    print(\"Caught a ZeroDivisionError!\")"
   ]
  },
  {
   "cell_type": "markdown",
   "id": "48f767da",
   "metadata": {},
   "source": [
    "e. Program to handle any exceptio"
   ]
  },
  {
   "cell_type": "code",
   "execution_count": 10,
   "id": "b6a88fa4",
   "metadata": {},
   "outputs": [
    {
     "name": "stdout",
     "output_type": "stream",
     "text": [
      "Enter a number: 5\n",
      "Enter another number: 7\n",
      "Division result: 0.7142857142857143\n"
     ]
    }
   ],
   "source": [
    "try:\n",
    "    a = int(input(\"Enter a number: \"))\n",
    "    b = int(input(\"Enter another number: \"))\n",
    "    print(f\"Division result: {a / b}\")\n",
    "except Exception as e:\n",
    "    print(f\"An error occurred: {e}\")"
   ]
  },
  {
   "cell_type": "code",
   "execution_count": null,
   "id": "6c4b7b48",
   "metadata": {},
   "outputs": [],
   "source": []
  }
 ],
 "metadata": {
  "kernelspec": {
   "display_name": "Python 3 (ipykernel)",
   "language": "python",
   "name": "python3"
  },
  "language_info": {
   "codemirror_mode": {
    "name": "ipython",
    "version": 3
   },
   "file_extension": ".py",
   "mimetype": "text/x-python",
   "name": "python",
   "nbconvert_exporter": "python",
   "pygments_lexer": "ipython3",
   "version": "3.9.13"
  }
 },
 "nbformat": 4,
 "nbformat_minor": 5
}
