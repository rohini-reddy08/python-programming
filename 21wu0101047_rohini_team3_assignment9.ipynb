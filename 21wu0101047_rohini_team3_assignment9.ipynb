{
 "cells": [
  {
   "cell_type": "markdown",
   "id": "07f91f09",
   "metadata": {},
   "source": [
    "1. What is a lambda function in Python, and how does it differ from a regular function?"
   ]
  },
  {
   "cell_type": "markdown",
   "id": "759a0248",
   "metadata": {},
   "source": [
    "Ans) A lambda function is an anonymous function defined using the lambda keyword. Unlike regular functions defined with def, lambda functions can only contain a single expression and do not have a name. They are often used for short, throwaway functions."
   ]
  },
  {
   "cell_type": "markdown",
   "id": "2c3cf9e3",
   "metadata": {},
   "source": [
    "2.\tCan a lambda function in Python have multiple arguments? If yes, how can you define and use them?"
   ]
  },
  {
   "cell_type": "markdown",
   "id": "aa2d8d84",
   "metadata": {},
   "source": [
    "Ans) Yes, a lambda function can have multiple arguments."
   ]
  },
  {
   "cell_type": "markdown",
   "id": "06f75868",
   "metadata": {},
   "source": [
    "3.\tHow are lambda functions typically used in Python? Provide an example use case."
   ]
  },
  {
   "cell_type": "markdown",
   "id": "d3b562e5",
   "metadata": {},
   "source": [
    "Ans) Lambda functions are commonly used in situations where a small function is required temporarily, such as in functional programming tools like map, filter, and reduce."
   ]
  },
  {
   "cell_type": "markdown",
   "id": "c68ed9c7",
   "metadata": {},
   "source": [
    "4.\tWhat are the advantages and limitations of lambda functions compared to regular functions in Python?"
   ]
  },
  {
   "cell_type": "markdown",
   "id": "43652b96",
   "metadata": {},
   "source": [
    "Ans)\n",
    "Advantages:\n",
    "•Concise and easy to write for small, single-use functions.\n",
    "•Useful in functional programming contexts.\n",
    "Limitations:\n",
    "•Cannot have multiple expressions or statements.\n",
    "•Harder to read and debug for complex logic.\n",
    "•Lacks a name, making error tracing challenging."
   ]
  },
  {
   "cell_type": "markdown",
   "id": "81d92e55",
   "metadata": {},
   "source": [
    "5. Are lambda functions in Python able to access variables defined outside of their own scope? Explain with an example."
   ]
  },
  {
   "cell_type": "markdown",
   "id": "aaae5102",
   "metadata": {},
   "source": [
    "Ans) Yes, lambda functions can access variables from their enclosing scope, known as closures."
   ]
  },
  {
   "cell_type": "code",
   "execution_count": 2,
   "id": "ee112244",
   "metadata": {},
   "outputs": [
    {
     "name": "stdout",
     "output_type": "stream",
     "text": [
      "50\n"
     ]
    }
   ],
   "source": [
    "    x = 10\n",
    "multiply = lambda y: x * y\n",
    "print(multiply(5))"
   ]
  },
  {
   "cell_type": "markdown",
   "id": "5c794dba",
   "metadata": {},
   "source": [
    "6.Write a lambda function to calculate the square of a given number."
   ]
  },
  {
   "cell_type": "code",
   "execution_count": 3,
   "id": "185e0a60",
   "metadata": {},
   "outputs": [
    {
     "name": "stdout",
     "output_type": "stream",
     "text": [
      "16\n"
     ]
    }
   ],
   "source": [
    "square = lambda x: x ** 2\n",
    "print(square(4))"
   ]
  },
  {
   "cell_type": "markdown",
   "id": "8a7ee310",
   "metadata": {},
   "source": [
    "7.Create a lambda function to find the maximum value in a list of integers?"
   ]
  },
  {
   "cell_type": "code",
   "execution_count": 4,
   "id": "0d55facc",
   "metadata": {},
   "outputs": [
    {
     "name": "stdout",
     "output_type": "stream",
     "text": [
      "5\n"
     ]
    }
   ],
   "source": [
    "max_value = lambda nums: max(nums)\n",
    "print(max_value([1, 2, 3, 4, 5])) "
   ]
  },
  {
   "cell_type": "markdown",
   "id": "1d07a52c",
   "metadata": {},
   "source": [
    "8. Implement a lambda function to filter out all the even numbers from a list of integers?"
   ]
  },
  {
   "cell_type": "code",
   "execution_count": 5,
   "id": "96765c77",
   "metadata": {},
   "outputs": [
    {
     "name": "stdout",
     "output_type": "stream",
     "text": [
      "[1, 3, 5, 7, 9]\n"
     ]
    }
   ],
   "source": [
    "# List of integers\n",
    "numbers = [1, 2, 3, 4, 5, 6, 7, 8, 9, 10]\n",
    "\n",
    "# Filter out even numbers using a lambda function\n",
    "odd_numbers = list(filter(lambda x: x % 2 != 0, numbers))\n",
    "\n",
    "print(odd_numbers)"
   ]
  },
  {
   "cell_type": "markdown",
   "id": "a08e64c5",
   "metadata": {},
   "source": [
    "9. Write a lambda function to sort a list of strings in ascending order based on the length of each\n",
    "string?"
   ]
  },
  {
   "cell_type": "code",
   "execution_count": 6,
   "id": "c2cf64a8",
   "metadata": {},
   "outputs": [
    {
     "name": "stdout",
     "output_type": "stream",
     "text": [
      "['kiwi', 'apple', 'banana']\n"
     ]
    }
   ],
   "source": [
    "strings = [\"apple\", \"kiwi\", \"banana\"]\n",
    "sorted_strings = sorted(strings, key=lambda s: len(s))\n",
    "print(sorted_strings) "
   ]
  },
  {
   "cell_type": "markdown",
   "id": "cc5cca54",
   "metadata": {},
   "source": [
    "10.\tCreate a lambda function that takes two lists as input and returns a new list containing the common elements between the two lists?"
   ]
  },
  {
   "cell_type": "code",
   "execution_count": 7,
   "id": "601db5b5",
   "metadata": {},
   "outputs": [
    {
     "name": "stdout",
     "output_type": "stream",
     "text": [
      "[2, 3]\n"
     ]
    }
   ],
   "source": [
    "common_elements = lambda list1, list2: [x for x in list1 if x in list2]\n",
    "print(common_elements([1, 2, 3], [2, 3, 4]))"
   ]
  },
  {
   "cell_type": "markdown",
   "id": "692b6c5a",
   "metadata": {},
   "source": [
    "11. Write a recursive function to calculate the factorial of a given positive integer?"
   ]
  },
  {
   "cell_type": "code",
   "execution_count": 8,
   "id": "5e60cfa2",
   "metadata": {},
   "outputs": [
    {
     "name": "stdout",
     "output_type": "stream",
     "text": [
      "120\n"
     ]
    }
   ],
   "source": [
    "def factorial(n):\n",
    "    if n == 0 or n == 1:\n",
    "        return 1\n",
    "    return n * factorial(n - 1)\n",
    "\n",
    "print(factorial(5)) "
   ]
  },
  {
   "cell_type": "markdown",
   "id": "5bd4a209",
   "metadata": {},
   "source": [
    "12. Implement a recursive function to compute the nth Fibonacci number?"
   ]
  },
  {
   "cell_type": "code",
   "execution_count": 9,
   "id": "bfcb31cd",
   "metadata": {},
   "outputs": [
    {
     "name": "stdout",
     "output_type": "stream",
     "text": [
      "8\n"
     ]
    }
   ],
   "source": [
    "def fibonacci(n):\n",
    "    if n <= 1:\n",
    "        return n\n",
    "    return fibonacci(n - 1) + fibonacci(n - 2)\n",
    "\n",
    "print(fibonacci(6)) "
   ]
  },
  {
   "cell_type": "markdown",
   "id": "50954d96",
   "metadata": {},
   "source": [
    "13.Create a recursive function to find the sum of all the elements in a given list?"
   ]
  },
  {
   "cell_type": "code",
   "execution_count": 10,
   "id": "52d5ad59",
   "metadata": {},
   "outputs": [
    {
     "name": "stdout",
     "output_type": "stream",
     "text": [
      "10\n"
     ]
    }
   ],
   "source": [
    "def list_sum(nums):\n",
    "    if not nums:\n",
    "        return 0\n",
    "    return nums[0] + list_sum(nums[1:])\n",
    "\n",
    "print(list_sum([1, 2, 3, 4])) "
   ]
  },
  {
   "cell_type": "markdown",
   "id": "ea388320",
   "metadata": {},
   "source": [
    "14. Write a recursive function to determine whether a given string is a palindrome?"
   ]
  },
  {
   "cell_type": "code",
   "execution_count": 11,
   "id": "45ceae99",
   "metadata": {},
   "outputs": [
    {
     "name": "stdout",
     "output_type": "stream",
     "text": [
      "True\n"
     ]
    }
   ],
   "source": [
    "def is_palindrome(s):\n",
    "    if len(s) <= 1:\n",
    "        return True\n",
    "    if s[0] != s[-1]:\n",
    "        return False\n",
    "    return is_palindrome(s[1:-1])\n",
    "\n",
    "print(is_palindrome(\"radar\"))"
   ]
  },
  {
   "cell_type": "markdown",
   "id": "29986473",
   "metadata": {},
   "source": [
    "15.Implement a recursive function to find the greatest common divisor (GCD) of two positive integers?"
   ]
  },
  {
   "cell_type": "code",
   "execution_count": 12,
   "id": "d8996468",
   "metadata": {},
   "outputs": [
    {
     "name": "stdout",
     "output_type": "stream",
     "text": [
      "6\n"
     ]
    }
   ],
   "source": [
    "def gcd(a, b):\n",
    "    if b == 0:\n",
    "        return a\n",
    "    return gcd(b, a % b)\n",
    "\n",
    "print(gcd(48, 18))"
   ]
  }
 ],
 "metadata": {
  "kernelspec": {
   "display_name": "Python 3 (ipykernel)",
   "language": "python",
   "name": "python3"
  },
  "language_info": {
   "codemirror_mode": {
    "name": "ipython",
    "version": 3
   },
   "file_extension": ".py",
   "mimetype": "text/x-python",
   "name": "python",
   "nbconvert_exporter": "python",
   "pygments_lexer": "ipython3",
   "version": "3.9.13"
  }
 },
 "nbformat": 4,
 "nbformat_minor": 5
}
