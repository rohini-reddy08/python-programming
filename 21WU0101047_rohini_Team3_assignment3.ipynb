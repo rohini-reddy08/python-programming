{
 "cells": [
  {
   "cell_type": "markdown",
   "id": "8a1c7b52",
   "metadata": {},
   "source": [
    "1. Why are functions advantageous to have in your programs?"
   ]
  },
  {
   "cell_type": "markdown",
   "id": "6013cfc9",
   "metadata": {},
   "source": [
    "Ans)\n",
    "Functions allow code reusability and reduce the need for duplicate code. This enhances the readability of the code making it shorter and easy to update. Functions also allow abstraction by hiding the implementation details of a particular task behind a well-defined interface."
   ]
  },
  {
   "cell_type": "markdown",
   "id": "e3e5c32e",
   "metadata": {},
   "source": [
    "2. When does the code in a function run: when it's specified or when it's called?"
   ]
  },
  {
   "cell_type": "markdown",
   "id": "6ba37425",
   "metadata": {},
   "source": [
    "Ans)\n",
    "The code in the function runs when it is called."
   ]
  },
  {
   "cell_type": "markdown",
   "id": "dff75864",
   "metadata": {},
   "source": [
    "3. What statement creates a function?"
   ]
  },
  {
   "cell_type": "markdown",
   "id": "7934842c",
   "metadata": {},
   "source": [
    "Ans)\n",
    "The def statement creates a function.\n",
    "ex: def example():\n",
    "        # code"
   ]
  },
  {
   "cell_type": "markdown",
   "id": "81925f68",
   "metadata": {},
   "source": [
    "4. What is the difference between a function and a function call?"
   ]
  },
  {
   "cell_type": "markdown",
   "id": "d2ee21f0",
   "metadata": {},
   "source": [
    "Ans)\n",
    "The difference between function and a function call is that a function defines a set code in its def statement which is executed \n",
    "when that function is called using a function call. The function call evaluates the function's return value.\n",
    "ex: \n",
    "def example():  >>function\n",
    "   #code \n",
    "   \n",
    "example()      >> function call"
   ]
  },
  {
   "cell_type": "markdown",
   "id": "d68ed82c",
   "metadata": {},
   "source": [
    "5. How many global scopes are there in a Python program? How many local scopes?"
   ]
  },
  {
   "cell_type": "markdown",
   "id": "9cda32fe",
   "metadata": {},
   "source": [
    "Ans)\n",
    "A Python program can have multiple local scopes and one global scope.\n",
    "Global scope are variables defined outside a function, and can be accessed throughout the program.\n",
    "Local scope are variables defined within a function, and can only be accessed within that function or block."
   ]
  },
  {
   "cell_type": "markdown",
   "id": "885326df",
   "metadata": {},
   "source": [
    "6. What happens to variables in a local scope when the function call returns?"
   ]
  },
  {
   "cell_type": "markdown",
   "id": "3e992877",
   "metadata": {},
   "source": [
    "Ans)\n",
    "When a function call returns, the local scope is destroyed."
   ]
  },
  {
   "cell_type": "markdown",
   "id": "2e2a6323",
   "metadata": {},
   "source": [
    "7. What is the concept of a return value? Is it possible to have a return value in an expression?"
   ]
  },
  {
   "cell_type": "markdown",
   "id": "ba16c425",
   "metadata": {},
   "source": [
    "Ans)\n",
    "A return value is the value that a function call evaluates to and it can be used as part of an expression."
   ]
  },
  {
   "cell_type": "markdown",
   "id": "ce0bcacb",
   "metadata": {},
   "source": [
    "8. If a function does not have a return statement, what is the return value of a call to that function?"
   ]
  },
  {
   "cell_type": "markdown",
   "id": "b837239f",
   "metadata": {},
   "source": [
    "Ans)\n",
    "If a funtion does not have a return statement it will simply not return anything."
   ]
  },
  {
   "cell_type": "markdown",
   "id": "10d76c68",
   "metadata": {},
   "source": [
    "9. How do you make a function variable refer to the global variable?"
   ]
  },
  {
   "cell_type": "markdown",
   "id": "973433cf",
   "metadata": {},
   "source": [
    "Ans)\n",
    "To make function variable as a global variable, we use the 'global' keyword to declare which variables are global."
   ]
  },
  {
   "cell_type": "markdown",
   "id": "4c80820d",
   "metadata": {},
   "source": [
    "10. What is the data type of None?"
   ]
  },
  {
   "cell_type": "markdown",
   "id": "644b6fe0",
   "metadata": {},
   "source": [
    "Ans)\n",
    "The data type of None is None."
   ]
  },
  {
   "cell_type": "markdown",
   "id": "b993443c",
   "metadata": {},
   "source": [
    "11. What does the sentence import areallyourpetsnamederic do?"
   ]
  },
  {
   "cell_type": "markdown",
   "id": "425afba9",
   "metadata": {},
   "source": [
    "Ans)\n",
    "That import statement imports a module named areallyourpetsnamederic. Since a module with that name doesnt exist in Python,\n",
    "we get ModuleNotFound Error."
   ]
  },
  {
   "cell_type": "markdown",
   "id": "a3ef82c8",
   "metadata": {},
   "source": [
    "12. If you had a bacon() feature in a spam module, what would you call it after importing spam?"
   ]
  },
  {
   "cell_type": "markdown",
   "id": "aa9e2922",
   "metadata": {},
   "source": [
    "Ans)\n",
    "import spam\n",
    "spam.bacon()"
   ]
  },
  {
   "cell_type": "markdown",
   "id": "43d81527",
   "metadata": {},
   "source": [
    "13. What can you do to save a programme from crashing if it encounters an error?"
   ]
  },
  {
   "cell_type": "markdown",
   "id": "83305628",
   "metadata": {},
   "source": [
    "Ans)\n",
    "If a program encounters an error, we use try except statement to prevent it from crashing"
   ]
  },
  {
   "cell_type": "markdown",
   "id": "a63a0846",
   "metadata": {},
   "source": [
    "14. What is the purpose of the try clause? What is the purpose of the except clause?"
   ]
  },
  {
   "cell_type": "code",
   "execution_count": null,
   "id": "47021b22",
   "metadata": {},
   "outputs": [],
   "source": [
    "Ans)\n",
    "Try and Except clause is used to handle the errors within the code. \n",
    "Try block: The code inside the try block will execute when there is no error in the program. \n",
    "Except block: It will execute whenever the program encounters some error in the try block.\n",
    "\n",
    "Ex: \n",
    "try:\n",
    " #code\n",
    "except:\n",
    " # executed if an error occurs in the try block"
   ]
  },
  {
   "cell_type": "code",
   "execution_count": null,
   "id": "6b7d4dc0",
   "metadata": {},
   "outputs": [],
   "source": []
  }
 ],
 "metadata": {
  "kernelspec": {
   "display_name": "Python 3 (ipykernel)",
   "language": "python",
   "name": "python3"
  },
  "language_info": {
   "codemirror_mode": {
    "name": "ipython",
    "version": 3
   },
   "file_extension": ".py",
   "mimetype": "text/x-python",
   "name": "python",
   "nbconvert_exporter": "python",
   "pygments_lexer": "ipython3",
   "version": "3.9.13"
  }
 },
 "nbformat": 4,
 "nbformat_minor": 5
}
