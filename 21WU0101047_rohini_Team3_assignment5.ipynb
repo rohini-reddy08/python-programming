{
 "cells": [
  {
   "cell_type": "markdown",
   "id": "56a198ca",
   "metadata": {},
   "source": [
    "1. What does an empty dictionary's code look like?"
   ]
  },
  {
   "cell_type": "code",
   "execution_count": 1,
   "id": "e471d572",
   "metadata": {},
   "outputs": [],
   "source": [
    "Ans)\n",
    "\n",
    "dict = {} #empty dictionary"
   ]
  },
  {
   "cell_type": "markdown",
   "id": "9b8d0a32",
   "metadata": {},
   "source": [
    "2. What is the value of a dictionary value with the key 'foo' and the value 42?"
   ]
  },
  {
   "cell_type": "code",
   "execution_count": 2,
   "id": "c11b5bd8",
   "metadata": {},
   "outputs": [
    {
     "data": {
      "text/plain": [
       "{'foo': 42}"
      ]
     },
     "execution_count": 2,
     "metadata": {},
     "output_type": "execute_result"
    }
   ],
   "source": [
    "Ans)\n",
    "\n",
    "dict = {'foo': 42}\n",
    "dict"
   ]
  },
  {
   "cell_type": "markdown",
   "id": "04086ad1",
   "metadata": {},
   "source": [
    "3. What is the most significant distinction between a dictionary and a list?"
   ]
  },
  {
   "cell_type": "raw",
   "id": "ae1af1ef",
   "metadata": {},
   "source": [
    "Ans) \n",
    "List - items in list are Ordered\n",
    "Dictionary : items in dictionary are unordered"
   ]
  },
  {
   "cell_type": "markdown",
   "id": "9e231d00",
   "metadata": {},
   "source": [
    "4. What happens if you try to access spam['foo'] if spam is {'bar': 100}?"
   ]
  },
  {
   "cell_type": "code",
   "execution_count": null,
   "id": "136d8b02",
   "metadata": {},
   "outputs": [],
   "source": [
    "Ans) \n",
    "spam = {'bar': 100}\n",
    "spam['foo']\n",
    "\n",
    "# Gives Key Error"
   ]
  },
  {
   "cell_type": "markdown",
   "id": "16659a09",
   "metadata": {},
   "source": [
    "5. If a dictionary is stored in spam, what is the difference between the expressions 'cat' in spam and 'cat' in spam.keys()?"
   ]
  },
  {
   "cell_type": "code",
   "execution_count": 6,
   "id": "9d64d797",
   "metadata": {},
   "outputs": [
    {
     "data": {
      "text/plain": [
       "True"
      ]
     },
     "execution_count": 6,
     "metadata": {},
     "output_type": "execute_result"
    }
   ],
   "source": [
    "Ans)\n",
    "spam = {'cat': 99}\n",
    "'cat' in spam"
   ]
  },
  {
   "cell_type": "code",
   "execution_count": 7,
   "id": "897df8ae",
   "metadata": {},
   "outputs": [
    {
     "data": {
      "text/plain": [
       "True"
      ]
     },
     "execution_count": 7,
     "metadata": {},
     "output_type": "execute_result"
    }
   ],
   "source": [
    "spam = {'cat': 99}\n",
    "'cat' in spam.keys()\n",
    "\n",
    "# Both check if cat is key"
   ]
  },
  {
   "cell_type": "markdown",
   "id": "08aa1e9d",
   "metadata": {},
   "source": [
    "6. If a dictionary is stored in spam, what is the difference between the expressions 'cat' in spam and 'cat' in spam.values()?"
   ]
  },
  {
   "cell_type": "code",
   "execution_count": 8,
   "id": "ae1db90c",
   "metadata": {},
   "outputs": [
    {
     "data": {
      "text/plain": [
       "False"
      ]
     },
     "execution_count": 8,
     "metadata": {},
     "output_type": "execute_result"
    }
   ],
   "source": [
    "Ans)\n",
    "spam = {'cat': 99}\n",
    "'cat' in spam.values()\n",
    "\n",
    "# checks whether cat is in key, if not returns false."
   ]
  },
  {
   "cell_type": "markdown",
   "id": "3cc40a99",
   "metadata": {},
   "source": [
    "7.What is a shortcut for the following code?\n",
    "\n",
    "if 'color' not in spam:\n",
    "\n",
    "spam['color'] = 'black'"
   ]
  },
  {
   "cell_type": "code",
   "execution_count": 9,
   "id": "8a16c7f2",
   "metadata": {},
   "outputs": [
    {
     "data": {
      "text/plain": [
       "{'cat': 99, 'color': 'black'}"
      ]
     },
     "execution_count": 9,
     "metadata": {},
     "output_type": "execute_result"
    }
   ],
   "source": [
    "Ans) \n",
    "spam ={'cat':99}\n",
    "spam.setdefault('color','black')\n",
    "spam"
   ]
  },
  {
   "cell_type": "markdown",
   "id": "c5980781",
   "metadata": {},
   "source": [
    "8.How do you \"pretty print\" dictionary values using which module and function?"
   ]
  },
  {
   "cell_type": "code",
   "execution_count": 8,
   "id": "f3a79d04",
   "metadata": {},
   "outputs": [],
   "source": [
    "\n",
    "import pprint\n",
    "\n",
    "dict = [ {'Name': 'rohini', 'Age': '21', 'Country': 'India'},\n",
    "  {'Name': 'sami', 'Age': '25', 'Country': 'China'},\n",
    "  {'Name': 'Manu', 'Age': '30', 'Country': 'UK'},\n",
    "  {'Name': 'ashu', 'Age': '31', 'Country': 'USA'}\n",
    "]"
   ]
  },
  {
   "cell_type": "code",
   "execution_count": 9,
   "id": "29661a04",
   "metadata": {},
   "outputs": [
    {
     "name": "stdout",
     "output_type": "stream",
     "text": [
      "[{'Age': '21', 'Country': 'India', 'Name': 'rohini'},\n",
      " {'Age': '25', 'Country': 'China', 'Name': 'sami'},\n",
      " {'Age': '30', 'Country': 'UK', 'Name': 'Manu'},\n",
      " {'Age': '31', 'Country': 'USA', 'Name': 'ashu'}]\n"
     ]
    }
   ],
   "source": [
    "# printing with pprint()\n",
    "pprint.pprint(dict)"
   ]
  },
  {
   "cell_type": "code",
   "execution_count": 10,
   "id": "022cde33",
   "metadata": {},
   "outputs": [
    {
     "name": "stdout",
     "output_type": "stream",
     "text": [
      "[{'Name': 'rohini', 'Age': '21', 'Country': 'India'}, {'Name': 'sami', 'Age': '25', 'Country': 'China'}, {'Name': 'Manu', 'Age': '30', 'Country': 'UK'}, {'Name': 'ashu', 'Age': '31', 'Country': 'USA'}]\n"
     ]
    }
   ],
   "source": [
    "#Printing with print()\n",
    "print(dict)"
   ]
  },
  {
   "cell_type": "code",
   "execution_count": null,
   "id": "17e27d87",
   "metadata": {},
   "outputs": [],
   "source": []
  }
 ],
 "metadata": {
  "kernelspec": {
   "display_name": "Python 3 (ipykernel)",
   "language": "python",
   "name": "python3"
  },
  "language_info": {
   "codemirror_mode": {
    "name": "ipython",
    "version": 3
   },
   "file_extension": ".py",
   "mimetype": "text/x-python",
   "name": "python",
   "nbconvert_exporter": "python",
   "pygments_lexer": "ipython3",
   "version": "3.9.13"
  }
 },
 "nbformat": 4,
 "nbformat_minor": 5
}
