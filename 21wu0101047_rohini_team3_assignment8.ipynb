{
 "cells": [
  {
   "cell_type": "markdown",
   "id": "7d4db619",
   "metadata": {},
   "source": [
    "1. In Python, what is the difference between a built-in function and a user-defined function? Provide an example of each."
   ]
  },
  {
   "cell_type": "markdown",
   "id": "38f6ae62",
   "metadata": {},
   "source": [
    "Ans) built-in function: Predefined functions provided by Python.\n",
    "     ex: result = len(\"Hello\")\n",
    "print(result)  \n",
    "User-defined function: Functions created by the programmer.\n",
    "    ex: def greet(name):\n",
    "    return f\"Hello, {name}!\"\n",
    "print(greet(\"Alice\"))  "
   ]
  },
  {
   "cell_type": "markdown",
   "id": "b0a598ee",
   "metadata": {},
   "source": [
    "2. How can you pass arguments to a function in Python? Explain the difference between positional arguments and keyword arguments."
   ]
  },
  {
   "cell_type": "markdown",
   "id": "c55d8c07",
   "metadata": {},
   "source": [
    "Ans) Arguments are specified after the function name, inside the parentheses.Python functions can contain two types of arguments: positional arguments and keyword arguments. Positional arguments must be included in the correct order. Keyword arguments are included with a keyword and equals sign."
   ]
  },
  {
   "cell_type": "markdown",
   "id": "dc7e7c14",
   "metadata": {},
   "source": [
    "3. What is the purpose of the return statement in a function? Can a function have multiple return statements? Explain with an example."
   ]
  },
  {
   "cell_type": "markdown",
   "id": "61269a74",
   "metadata": {},
   "source": [
    "Ans) A return statement ends the execution of a function, and returns control to the calling function. Execution resumes in the calling function at the point immediately following the call. A return statement can return a value to the calling function."
   ]
  },
  {
   "cell_type": "code",
   "execution_count": 1,
   "id": "dbd7d371",
   "metadata": {},
   "outputs": [
    {
     "name": "stdout",
     "output_type": "stream",
     "text": [
      "Negative\n"
     ]
    }
   ],
   "source": [
    "def check_number(num):\n",
    "    if num > 0:\n",
    "        return \"Positive\"\n",
    "    elif num < 0:\n",
    "        return \"Negative\"\n",
    "    else:\n",
    "        return \"Zero\"\n",
    "print(check_number(-5)) \n"
   ]
  },
  {
   "cell_type": "markdown",
   "id": "6e9ccccc",
   "metadata": {},
   "source": [
    "4. What are lambda functions in Python? How are they different from regular functions? Provide an example where a lambda function can be useful."
   ]
  },
  {
   "cell_type": "markdown",
   "id": "0b229a78",
   "metadata": {},
   "source": [
    "Ans) Lambda functions are similar to user-defined functions but without a name. Difference from regular functions: They are single-expression functions with no explicit name."
   ]
  },
  {
   "cell_type": "code",
   "execution_count": 2,
   "id": "73c71212",
   "metadata": {},
   "outputs": [
    {
     "name": "stdout",
     "output_type": "stream",
     "text": [
      "25\n"
     ]
    }
   ],
   "source": [
    "square = lambda x: x ** 2\n",
    "print(square(5))  "
   ]
  },
  {
   "cell_type": "markdown",
   "id": "7fb21592",
   "metadata": {},
   "source": [
    "5. How does the concept of \"scope\" apply to functions in Python? Explain the difference between localscope and global scope."
   ]
  },
  {
   "cell_type": "markdown",
   "id": "fe9810ed",
   "metadata": {},
   "source": [
    "Ans) The 'global_variable' is accessible from anywhere in the code. While, the 'local_variable' declared inside a function is only accessible from inside that function. We aren't able to access it from outside the function. In the next example, we'll create a variable with the same name both in the local and global scope."
   ]
  },
  {
   "cell_type": "markdown",
   "id": "32693af5",
   "metadata": {},
   "source": [
    "6. How can you use the \"return\" statement in a Python function to return multiple values?"
   ]
  },
  {
   "cell_type": "markdown",
   "id": "86e3b3a9",
   "metadata": {},
   "source": [
    "Ans) You can use tuples to return multiple values:"
   ]
  },
  {
   "cell_type": "code",
   "execution_count": 3,
   "id": "d6c3cb81",
   "metadata": {},
   "outputs": [
    {
     "name": "stdout",
     "output_type": "stream",
     "text": [
      "1 5 3.0\n"
     ]
    }
   ],
   "source": [
    "def get_stats(numbers):\n",
    "    return min(numbers), max(numbers), sum(numbers) / len(numbers)\n",
    "\n",
    "min_val, max_val, avg = get_stats([1, 2, 3, 4, 5])\n",
    "print(min_val, max_val, avg) "
   ]
  },
  {
   "cell_type": "markdown",
   "id": "cc276e15",
   "metadata": {},
   "source": [
    "7. What is the difference between the \"pass by value\" and \"pass by reference\" concepts when itcomes to function arguments in Python?"
   ]
  },
  {
   "cell_type": "markdown",
   "id": "d2932104",
   "metadata": {},
   "source": [
    "Ans) Pass by value: A copy of the variable is passed (does not apply directly in Python).\n",
    "Pass by reference: The reference to the object is passed, and changes affect the original object.\n",
    "python\n",
    "Copy code"
   ]
  },
  {
   "cell_type": "markdown",
   "id": "505dd613",
   "metadata": {},
   "source": [
    "8.) Create a function that can intake integer or decimal value and do following operations:\n",
    "a. Logarithmic function (log x)\n",
    "b. Exponential function (exp(x))\n",
    "c. Power function with base 2 (2x)\n",
    "d. Square root"
   ]
  },
  {
   "cell_type": "code",
   "execution_count": 4,
   "id": "b004cb8f",
   "metadata": {},
   "outputs": [
    {
     "name": "stdout",
     "output_type": "stream",
     "text": [
      "Logarithmic function: 1.3862943611198906\n",
      "Exponential function: 54.598150033144236\n",
      "Power function (2^x): 16\n",
      "Square root: 2.0\n"
     ]
    }
   ],
   "source": [
    "import math\n",
    "\n",
    "def math_operations(x):\n",
    "    print(\"Logarithmic function:\", math.log(x))\n",
    "    print(\"Exponential function:\", math.exp(x))\n",
    "    print(\"Power function (2^x):\", 2 ** x)\n",
    "    print(\"Square root:\", math.sqrt(x))\n",
    "\n",
    "math_operations(4)\n"
   ]
  },
  {
   "cell_type": "markdown",
   "id": "d8c8115d",
   "metadata": {},
   "source": [
    "9. Create a function that takes a full name as an argument and returns first name and last name."
   ]
  },
  {
   "cell_type": "code",
   "execution_count": 5,
   "id": "aac24e87",
   "metadata": {},
   "outputs": [
    {
     "name": "stdout",
     "output_type": "stream",
     "text": [
      "John\n",
      "Doe\n"
     ]
    }
   ],
   "source": [
    "def split_name(full_name):\n",
    "    first_name, last_name = full_name.split()\n",
    "    return first_name, last_name\n",
    "\n",
    "fname, lname = split_name(\"John Doe\")\n",
    "print(fname)  \n",
    "print(lname)  "
   ]
  }
 ],
 "metadata": {
  "kernelspec": {
   "display_name": "Python 3 (ipykernel)",
   "language": "python",
   "name": "python3"
  },
  "language_info": {
   "codemirror_mode": {
    "name": "ipython",
    "version": 3
   },
   "file_extension": ".py",
   "mimetype": "text/x-python",
   "name": "python",
   "nbconvert_exporter": "python",
   "pygments_lexer": "ipython3",
   "version": "3.9.13"
  }
 },
 "nbformat": 4,
 "nbformat_minor": 5
}
