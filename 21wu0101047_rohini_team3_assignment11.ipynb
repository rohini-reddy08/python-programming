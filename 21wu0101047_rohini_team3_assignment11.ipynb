{
 "cells": [
  {
   "cell_type": "markdown",
   "id": "7353b128",
   "metadata": {},
   "source": [
    "1. What is the role of the 'else' block in a try-except statement? Provide an examplescenario where it would be useful."
   ]
  },
  {
   "cell_type": "markdown",
   "id": "b5f61fbe",
   "metadata": {},
   "source": [
    "Ans) The else block in a try-except statement is executed only if no exception is raised in the try block. It is useful for code that should only run when no errors occur."
   ]
  },
  {
   "cell_type": "code",
   "execution_count": 1,
   "id": "daba4e82",
   "metadata": {},
   "outputs": [
    {
     "name": "stdout",
     "output_type": "stream",
     "text": [
      "Enter a number: 5\n",
      "The square of the number is 25\n"
     ]
    }
   ],
   "source": [
    "try:\n",
    "    number = int(input(\"Enter a number: \"))\n",
    "except ValueError:\n",
    "    print(\"That's not a valid number!\")\n",
    "else:\n",
    "    print(f\"The square of the number is {number ** 2}\")\n"
   ]
  },
  {
   "cell_type": "markdown",
   "id": "2fa41ef0",
   "metadata": {},
   "source": [
    "2. Can a try-except block be nested inside another try-except block? Explain with an example."
   ]
  },
  {
   "cell_type": "markdown",
   "id": "1f5c310e",
   "metadata": {},
   "source": [
    "Ans)Yes, try-except blocks can be nested to handle exceptions at different levels of execution."
   ]
  },
  {
   "cell_type": "markdown",
   "id": "7de8c726",
   "metadata": {},
   "source": [
    "3. How can you create a custom exception class in Python? Provide an example that demonstrates its usage."
   ]
  },
  {
   "cell_type": "markdown",
   "id": "13758dee",
   "metadata": {},
   "source": [
    "Ans) In Python, we can define custom exceptions by creating a new class that is derived from the built-in Exception class. "
   ]
  },
  {
   "cell_type": "code",
   "execution_count": 2,
   "id": "5386953f",
   "metadata": {},
   "outputs": [],
   "source": [
    "class CustomError(Exception):\n",
    "    ...\n",
    "    pass\n",
    "\n",
    "try:\n",
    "   ...\n",
    "\n",
    "except CustomError:\n",
    "    ..."
   ]
  },
  {
   "cell_type": "markdown",
   "id": "618f9fa8",
   "metadata": {},
   "source": [
    "4. What are some common exceptions that are built-in to Python?"
   ]
  },
  {
   "cell_type": "markdown",
   "id": "44bcee94",
   "metadata": {},
   "source": [
    "Ans) IndentationError\n",
    "     IndexError\n",
    "     key error\n",
    "     File Not Found Error\n",
    "     IOError"
   ]
  },
  {
   "cell_type": "markdown",
   "id": "cf0f5dbd",
   "metadata": {},
   "source": [
    "5. What is logging in Python, and why is it important in software development?"
   ]
  },
  {
   "cell_type": "markdown",
   "id": "edf367ee",
   "metadata": {},
   "source": [
    "Ans) Logging is essential to understand the behaviour of the application and to debug unexpected issues or for simply tracking events. In the production environment, we can't debug issues without proper log files as they become the only source of information to debug some intermittent or unexpected errors."
   ]
  },
  {
   "cell_type": "markdown",
   "id": "7d45ee07",
   "metadata": {},
   "source": [
    "6. Explain the purpose of log levels in Python logging and provide examples of when each log level would be appropriate."
   ]
  },
  {
   "cell_type": "markdown",
   "id": "1de35ac0",
   "metadata": {},
   "source": [
    "Ans) Log levels allow you to define event severity for each log so they are easily analyzed. Python supports predefined values, which can be found by calling logging. getLevelName(). Predefined log levels include CRITICAL, ERROR, WARNING, INFO, and DEBUG from highest to lowest severity."
   ]
  },
  {
   "cell_type": "code",
   "execution_count": 3,
   "id": "bbd1d8ba",
   "metadata": {},
   "outputs": [
    {
     "name": "stderr",
     "output_type": "stream",
     "text": [
      "DEBUG:root:This is a debug message\n",
      "INFO:root:Informational message\n",
      "WARNING:root:Warning message\n",
      "ERROR:root:Error occurred\n",
      "CRITICAL:root:Critical issue\n"
     ]
    }
   ],
   "source": [
    "import logging\n",
    "\n",
    "logging.basicConfig(level=logging.DEBUG)\n",
    "\n",
    "logging.debug(\"This is a debug message\")\n",
    "logging.info(\"Informational message\")\n",
    "logging.warning(\"Warning message\")\n",
    "logging.error(\"Error occurred\")\n",
    "logging.critical(\"Critical issue\")\n"
   ]
  },
  {
   "cell_type": "markdown",
   "id": "5b0b7449",
   "metadata": {},
   "source": [
    "7. What are log formatters in Python logging, and how can you customise the log\n",
    "message format using formatters?"
   ]
  },
  {
   "cell_type": "markdown",
   "id": "492a4571",
   "metadata": {},
   "source": [
    "Ans)Formatters: Formatters control the layout and content of log messages."
   ]
  },
  {
   "cell_type": "code",
   "execution_count": 4,
   "id": "87c8d6a4",
   "metadata": {},
   "outputs": [
    {
     "name": "stderr",
     "output_type": "stream",
     "text": [
      "INFO:root:This is a formatted log message\n"
     ]
    }
   ],
   "source": [
    "import logging\n",
    "\n",
    "logging.basicConfig(\n",
    "    format='%(asctime)s - %(levelname)s - %(message)s',\n",
    "    level=logging.INFO\n",
    ")\n",
    "\n",
    "logging.info(\"This is a formatted log message\")\n"
   ]
  },
  {
   "cell_type": "markdown",
   "id": "5d82ef37",
   "metadata": {},
   "source": [
    "8. How can you set up logging to capture log messages from multiple modules or classes in a Python application?"
   ]
  },
  {
   "cell_type": "markdown",
   "id": "a985b395",
   "metadata": {},
   "source": [
    "Ans) Use the same logger instance across modules by configuring it in a central file."
   ]
  },
  {
   "cell_type": "markdown",
   "id": "4b82a08d",
   "metadata": {},
   "source": [
    "main.py"
   ]
  },
  {
   "cell_type": "code",
   "execution_count": null,
   "id": "9580256c",
   "metadata": {},
   "outputs": [],
   "source": [
    "import logging\n",
    "from module_a import function_a\n",
    "\n",
    "logging.basicConfig(level=logging.INFO, filename=\"app.log\")\n",
    "\n",
    "logging.info(\"Main module started\")\n",
    "function_a()\n"
   ]
  },
  {
   "cell_type": "markdown",
   "id": "2f1ee9b2",
   "metadata": {},
   "source": [
    "module_a.py"
   ]
  },
  {
   "cell_type": "code",
   "execution_count": 8,
   "id": "7fafa836",
   "metadata": {},
   "outputs": [],
   "source": [
    "import logging\n",
    "\n",
    "def function_a():\n",
    "    logging.info(\"Function in module_a executed\")\n"
   ]
  },
  {
   "cell_type": "markdown",
   "id": "57355122",
   "metadata": {},
   "source": [
    "9. What is the difference between the logging and print statements in Python? When\n",
    "should you use logging over print statements in a real-world application?"
   ]
  },
  {
   "cell_type": "markdown",
   "id": "7c86b5ce",
   "metadata": {},
   "source": [
    "Ans) Logging in Python\n",
    "Logging in Python is a technique to display useful messages and warnings to users. The logging module provides a flexible way to log different messages in various output destinations such as on the console, in files, and on networks. Logging is a best practice for production code.\n",
    "Print in Python\n",
    "The print statement is a built-in function in Python that prints the specified value or values to the console. It is mainly used for debugging and is not recommended for logging information in production code.\n",
    "\n",
    "Logging offers several advantages over using print statements for debugging and monitoring: Granularity: Logging allows you to specify the importance of messages"
   ]
  },
  {
   "cell_type": "raw",
   "id": "c4297fa4",
   "metadata": {},
   "source": [
    "10. Write a Python program that logs a message to a file named \"app.log\" with the following requirements:\n",
    "● The log message should be \"Hello, World!\"\n",
    "● The log level should be set to \"INFO.\"\n",
    "● The log file should append new log entries without overwriting previous ones."
   ]
  },
  {
   "cell_type": "code",
   "execution_count": 9,
   "id": "851299af",
   "metadata": {},
   "outputs": [
    {
     "name": "stderr",
     "output_type": "stream",
     "text": [
      "INFO:root:Hello, World!\n"
     ]
    }
   ],
   "source": [
    "import logging\n",
    "\n",
    "logging.basicConfig(\n",
    "    filename=\"app.log\",\n",
    "    level=logging.INFO,\n",
    "    filemode=\"a\",\n",
    "    format=\"%(asctime)s - %(levelname)s - %(message)s\"\n",
    ")\n",
    "\n",
    "logging.info(\"Hello, World!\")\n"
   ]
  },
  {
   "cell_type": "markdown",
   "id": "77fd35a4",
   "metadata": {},
   "source": [
    "11. Create a Python program that logs an error message to the console and a file named\"errors.log\" if an exception occurs during the program's execution. The error message should include the exception type and a timestamp."
   ]
  },
  {
   "cell_type": "markdown",
   "id": "33cb274e",
   "metadata": {},
   "source": [
    "Ans) Python program that logs an error message to both the console and a file named errors.log if an exception occurs during the program's execution. The error message includes the exception type and a timestamp"
   ]
  },
  {
   "cell_type": "code",
   "execution_count": 10,
   "id": "8ca46d19",
   "metadata": {},
   "outputs": [
    {
     "name": "stderr",
     "output_type": "stream",
     "text": [
      "ERROR:root:An error occurred: ZeroDivisionError - division by zero\n",
      "2024-12-07 14:40:23,681 - ERROR - An error occurred: ZeroDivisionError - division by zero\n"
     ]
    }
   ],
   "source": [
    "import logging\n",
    "\n",
    "# Configure logging to log to both console and file\n",
    "logging.basicConfig(\n",
    "    filename=\"errors.log\",  # Log to errors.log file\n",
    "    level=logging.ERROR,     # Only log ERROR and higher level messages\n",
    "    format=\"%(asctime)s - %(levelname)s - %(message)s\"  # Format with timestamp, level, and message\n",
    ")\n",
    "\n",
    "# Create a console handler to log to console\n",
    "console_handler = logging.StreamHandler()\n",
    "console_handler.setLevel(logging.ERROR)  # Set level to ERROR for console\n",
    "console_handler.setFormatter(logging.Formatter(\"%(asctime)s - %(levelname)s - %(message)s\"))\n",
    "\n",
    "# Add console handler to the root logger\n",
    "logging.getLogger().addHandler(console_handler)\n",
    "\n",
    "# Example code that triggers an exception\n",
    "try:\n",
    "    # Simulating an error by dividing by zero\n",
    "    result = 10 / 0\n",
    "except Exception as e:\n",
    "    # Log the exception to both console and file\n",
    "    logging.error(f\"An error occurred: {type(e).__name__} - {e}\")\n"
   ]
  }
 ],
 "metadata": {
  "kernelspec": {
   "display_name": "Python 3 (ipykernel)",
   "language": "python",
   "name": "python3"
  },
  "language_info": {
   "codemirror_mode": {
    "name": "ipython",
    "version": 3
   },
   "file_extension": ".py",
   "mimetype": "text/x-python",
   "name": "python",
   "nbconvert_exporter": "python",
   "pygments_lexer": "ipython3",
   "version": "3.9.13"
  }
 },
 "nbformat": 4,
 "nbformat_minor": 5
}
